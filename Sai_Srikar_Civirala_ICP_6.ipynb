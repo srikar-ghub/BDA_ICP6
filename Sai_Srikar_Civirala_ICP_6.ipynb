{
  "nbformat": 4,
  "nbformat_minor": 0,
  "metadata": {
    "colab": {
      "provenance": []
    },
    "kernelspec": {
      "name": "python3",
      "display_name": "Python 3"
    },
    "language_info": {
      "name": "python"
    }
  },
  "cells": [
    {
      "cell_type": "markdown",
      "source": [
        "***Simple Neural Network with Keras Sequential API***"
      ],
      "metadata": {
        "id": "f8QdGW-45_Tv"
      }
    },
    {
      "cell_type": "code",
      "source": [
        "import tensorflow as tf\n",
        "from tensorflow.keras.models import Sequential\n",
        "from tensorflow.keras.layers import Dense\n",
        "import numpy as np\n",
        "\n",
        "# Generate some random data\n",
        "x_train = np.random.random((1000, 20))  # 1000 samples, 20 features each\n",
        "y_train = np.random.randint(2, size=(1000, 1))  # Binary labels (0 or 1)\n",
        "\n",
        "x_test = np.random.random((200, 20))  # 200 test samples\n",
        "y_test = np.random.randint(2, size=(200, 1))  # Binary labels for testing\n",
        "\n",
        "# Build a Sequential model\n",
        "model = Sequential()\n",
        "\n",
        "# Add a hidden layer with 64 neurons and ReLU activation\n",
        "model.add(Dense(64, activation='relu', input_shape=(20,)))\n",
        "\n",
        "# Add another hidden layer with 32 neurons and ReLU activation\n",
        "model.add(Dense(32, activation='relu'))\n",
        "\n",
        "# Add an output layer with 1 neuron and sigmoid activation for binary classification\n",
        "model.add(Dense(1, activation='sigmoid'))\n",
        "\n",
        "# Compile the model\n",
        "model.compile(optimizer='adam',\n",
        "              loss='binary_crossentropy',\n",
        "              metrics=['accuracy'])\n",
        "\n",
        "# Train the model\n",
        "model.fit(x_train, y_train, epochs=5, batch_size=32)\n",
        "\n",
        "# Evaluate the model on the test data\n",
        "test_loss, test_acc = model.evaluate(x_test, y_test)\n",
        "print(f'Test accuracy: {test_acc}')\n"
      ],
      "metadata": {
        "colab": {
          "base_uri": "https://localhost:8080/"
        },
        "id": "iJpPAbBG6LWQ",
        "outputId": "eec0c741-79fd-4563-fa0d-5921a09ba899"
      },
      "execution_count": 1,
      "outputs": [
        {
          "output_type": "stream",
          "name": "stderr",
          "text": [
            "/usr/local/lib/python3.11/dist-packages/keras/src/layers/core/dense.py:87: UserWarning: Do not pass an `input_shape`/`input_dim` argument to a layer. When using Sequential models, prefer using an `Input(shape)` object as the first layer in the model instead.\n",
            "  super().__init__(activity_regularizer=activity_regularizer, **kwargs)\n"
          ]
        },
        {
          "output_type": "stream",
          "name": "stdout",
          "text": [
            "Epoch 1/5\n",
            "\u001b[1m32/32\u001b[0m \u001b[32m━━━━━━━━━━━━━━━━━━━━\u001b[0m\u001b[37m\u001b[0m \u001b[1m2s\u001b[0m 4ms/step - accuracy: 0.4927 - loss: 0.6971\n",
            "Epoch 2/5\n",
            "\u001b[1m32/32\u001b[0m \u001b[32m━━━━━━━━━━━━━━━━━━━━\u001b[0m\u001b[37m\u001b[0m \u001b[1m0s\u001b[0m 3ms/step - accuracy: 0.5329 - loss: 0.6923\n",
            "Epoch 3/5\n",
            "\u001b[1m32/32\u001b[0m \u001b[32m━━━━━━━━━━━━━━━━━━━━\u001b[0m\u001b[37m\u001b[0m \u001b[1m0s\u001b[0m 3ms/step - accuracy: 0.5247 - loss: 0.6885\n",
            "Epoch 4/5\n",
            "\u001b[1m32/32\u001b[0m \u001b[32m━━━━━━━━━━━━━━━━━━━━\u001b[0m\u001b[37m\u001b[0m \u001b[1m0s\u001b[0m 3ms/step - accuracy: 0.5466 - loss: 0.6875\n",
            "Epoch 5/5\n",
            "\u001b[1m32/32\u001b[0m \u001b[32m━━━━━━━━━━━━━━━━━━━━\u001b[0m\u001b[37m\u001b[0m \u001b[1m0s\u001b[0m 3ms/step - accuracy: 0.5378 - loss: 0.6876\n",
            "\u001b[1m7/7\u001b[0m \u001b[32m━━━━━━━━━━━━━━━━━━━━\u001b[0m\u001b[37m\u001b[0m \u001b[1m0s\u001b[0m 11ms/step - accuracy: 0.5671 - loss: 0.6929 \n",
            "Test accuracy: 0.5350000262260437\n"
          ]
        }
      ]
    },
    {
      "cell_type": "markdown",
      "source": [
        "***Sequential API to create and train a neural network for classifying the MNIST dataset.***"
      ],
      "metadata": {
        "id": "ske7X0_r33aI"
      }
    },
    {
      "cell_type": "code",
      "source": [
        "import numpy as np\n",
        "import tensorflow as tf\n",
        "from tensorflow.keras.models import Sequential\n",
        "from tensorflow.keras.layers import Dense, Flatten\n",
        "from tensorflow.keras.datasets import mnist\n",
        "from tensorflow.keras.utils import to_categorical\n",
        "\n",
        "# Load and preprocess data\n",
        "(x_train, y_train), (x_test, y_test) = mnist.load_data()\n",
        "x_train, x_test = x_train / 255.0, x_test / 255.0\n",
        "y_train = to_categorical(y_train, 10)\n",
        "y_test = to_categorical(y_test, 10)\n"
      ],
      "metadata": {
        "colab": {
          "base_uri": "https://localhost:8080/"
        },
        "id": "ygO844pd3anG",
        "outputId": "94a573c9-9af7-4cf4-b601-a1f2f598274a"
      },
      "execution_count": 2,
      "outputs": [
        {
          "output_type": "stream",
          "name": "stdout",
          "text": [
            "Downloading data from https://storage.googleapis.com/tensorflow/tf-keras-datasets/mnist.npz\n",
            "\u001b[1m11490434/11490434\u001b[0m \u001b[32m━━━━━━━━━━━━━━━━━━━━\u001b[0m\u001b[37m\u001b[0m \u001b[1m0s\u001b[0m 0us/step\n"
          ]
        }
      ]
    },
    {
      "cell_type": "code",
      "source": [
        "# Build deeper model\n",
        "model = Sequential([\n",
        "    Flatten(input_shape=(28, 28)),\n",
        "    Dense(1024, activation='relu'),\n",
        "    Dense(512, activation='relu'),\n",
        "    Dense(256, activation='relu'),\n",
        "    Dense(128, activation='relu'),\n",
        "    Dense(64, activation='relu'),\n",
        "    Dense(32, activation='relu'),\n",
        "    Dense(10, activation='softmax')\n",
        "])\n",
        "\n",
        "# Compile model\n",
        "model.compile(optimizer='adam', loss='categorical_crossentropy', metrics=['accuracy'])\n",
        "\n",
        "# Train model\n",
        "model.fit(x_train, y_train, epochs=64, batch_size=128, validation_split=0.1, verbose=2)\n"
      ],
      "metadata": {
        "id": "H4VP_F0d3paH",
        "colab": {
          "base_uri": "https://localhost:8080/"
        },
        "outputId": "b19b208a-e058-4c02-b60c-2107e4a1485b"
      },
      "execution_count": 3,
      "outputs": [
        {
          "metadata": {
            "tags": null
          },
          "name": "stderr",
          "output_type": "stream",
          "text": [
            "/usr/local/lib/python3.11/dist-packages/keras/src/layers/reshaping/flatten.py:37: UserWarning: Do not pass an `input_shape`/`input_dim` argument to a layer. When using Sequential models, prefer using an `Input(shape)` object as the first layer in the model instead.\n",
            "  super().__init__(**kwargs)\n"
          ]
        },
        {
          "output_type": "stream",
          "name": "stdout",
          "text": [
            "Epoch 1/64\n",
            "422/422 - 21s - 50ms/step - accuracy: 0.9152 - loss: 0.2784 - val_accuracy: 0.9680 - val_loss: 0.1082\n",
            "Epoch 2/64\n",
            "422/422 - 21s - 49ms/step - accuracy: 0.9713 - loss: 0.0977 - val_accuracy: 0.9765 - val_loss: 0.0813\n",
            "Epoch 3/64\n",
            "422/422 - 20s - 47ms/step - accuracy: 0.9795 - loss: 0.0673 - val_accuracy: 0.9772 - val_loss: 0.0843\n",
            "Epoch 4/64\n",
            "422/422 - 21s - 50ms/step - accuracy: 0.9845 - loss: 0.0512 - val_accuracy: 0.9802 - val_loss: 0.0680\n",
            "Epoch 5/64\n",
            "422/422 - 17s - 41ms/step - accuracy: 0.9882 - loss: 0.0380 - val_accuracy: 0.9780 - val_loss: 0.0810\n",
            "Epoch 6/64\n",
            "422/422 - 21s - 51ms/step - accuracy: 0.9892 - loss: 0.0356 - val_accuracy: 0.9783 - val_loss: 0.0811\n",
            "Epoch 7/64\n",
            "422/422 - 20s - 46ms/step - accuracy: 0.9916 - loss: 0.0269 - val_accuracy: 0.9748 - val_loss: 0.0987\n",
            "Epoch 8/64\n",
            "422/422 - 18s - 44ms/step - accuracy: 0.9919 - loss: 0.0272 - val_accuracy: 0.9792 - val_loss: 0.0845\n",
            "Epoch 9/64\n",
            "422/422 - 19s - 46ms/step - accuracy: 0.9923 - loss: 0.0256 - val_accuracy: 0.9770 - val_loss: 0.0904\n",
            "Epoch 10/64\n",
            "422/422 - 18s - 42ms/step - accuracy: 0.9935 - loss: 0.0226 - val_accuracy: 0.9853 - val_loss: 0.0578\n",
            "Epoch 11/64\n",
            "422/422 - 20s - 46ms/step - accuracy: 0.9945 - loss: 0.0189 - val_accuracy: 0.9795 - val_loss: 0.0780\n",
            "Epoch 12/64\n",
            "422/422 - 18s - 43ms/step - accuracy: 0.9950 - loss: 0.0165 - val_accuracy: 0.9808 - val_loss: 0.0811\n",
            "Epoch 13/64\n",
            "422/422 - 18s - 42ms/step - accuracy: 0.9956 - loss: 0.0160 - val_accuracy: 0.9770 - val_loss: 0.1045\n",
            "Epoch 14/64\n",
            "422/422 - 20s - 47ms/step - accuracy: 0.9939 - loss: 0.0198 - val_accuracy: 0.9805 - val_loss: 0.0865\n",
            "Epoch 15/64\n",
            "422/422 - 20s - 48ms/step - accuracy: 0.9955 - loss: 0.0151 - val_accuracy: 0.9830 - val_loss: 0.0771\n",
            "Epoch 16/64\n",
            "422/422 - 22s - 51ms/step - accuracy: 0.9960 - loss: 0.0140 - val_accuracy: 0.9793 - val_loss: 0.1090\n",
            "Epoch 17/64\n",
            "422/422 - 17s - 41ms/step - accuracy: 0.9962 - loss: 0.0150 - val_accuracy: 0.9802 - val_loss: 0.0912\n",
            "Epoch 18/64\n",
            "422/422 - 17s - 41ms/step - accuracy: 0.9964 - loss: 0.0119 - val_accuracy: 0.9840 - val_loss: 0.0977\n",
            "Epoch 19/64\n",
            "422/422 - 20s - 48ms/step - accuracy: 0.9967 - loss: 0.0129 - val_accuracy: 0.9823 - val_loss: 0.0963\n",
            "Epoch 20/64\n",
            "422/422 - 22s - 52ms/step - accuracy: 0.9971 - loss: 0.0106 - val_accuracy: 0.9825 - val_loss: 0.0952\n",
            "Epoch 21/64\n",
            "422/422 - 19s - 44ms/step - accuracy: 0.9971 - loss: 0.0108 - val_accuracy: 0.9813 - val_loss: 0.0905\n",
            "Epoch 22/64\n",
            "422/422 - 21s - 50ms/step - accuracy: 0.9976 - loss: 0.0082 - val_accuracy: 0.9817 - val_loss: 0.0871\n",
            "Epoch 23/64\n",
            "422/422 - 21s - 50ms/step - accuracy: 0.9969 - loss: 0.0111 - val_accuracy: 0.9818 - val_loss: 0.1006\n",
            "Epoch 24/64\n",
            "422/422 - 17s - 41ms/step - accuracy: 0.9970 - loss: 0.0114 - val_accuracy: 0.9742 - val_loss: 0.1403\n",
            "Epoch 25/64\n",
            "422/422 - 20s - 48ms/step - accuracy: 0.9969 - loss: 0.0118 - val_accuracy: 0.9835 - val_loss: 0.0829\n",
            "Epoch 26/64\n",
            "422/422 - 18s - 43ms/step - accuracy: 0.9980 - loss: 0.0070 - val_accuracy: 0.9828 - val_loss: 0.0996\n",
            "Epoch 27/64\n",
            "422/422 - 19s - 46ms/step - accuracy: 0.9979 - loss: 0.0078 - val_accuracy: 0.9832 - val_loss: 0.1014\n",
            "Epoch 28/64\n",
            "422/422 - 20s - 48ms/step - accuracy: 0.9974 - loss: 0.0106 - val_accuracy: 0.9845 - val_loss: 0.0797\n",
            "Epoch 29/64\n",
            "422/422 - 21s - 50ms/step - accuracy: 0.9977 - loss: 0.0093 - val_accuracy: 0.9833 - val_loss: 0.0929\n",
            "Epoch 30/64\n",
            "422/422 - 17s - 41ms/step - accuracy: 0.9983 - loss: 0.0068 - val_accuracy: 0.9825 - val_loss: 0.1078\n",
            "Epoch 31/64\n",
            "422/422 - 21s - 49ms/step - accuracy: 0.9978 - loss: 0.0087 - val_accuracy: 0.9812 - val_loss: 0.0975\n",
            "Epoch 32/64\n",
            "422/422 - 20s - 47ms/step - accuracy: 0.9970 - loss: 0.0126 - val_accuracy: 0.9802 - val_loss: 0.0907\n",
            "Epoch 33/64\n",
            "422/422 - 18s - 42ms/step - accuracy: 0.9982 - loss: 0.0074 - val_accuracy: 0.9843 - val_loss: 0.0902\n",
            "Epoch 34/64\n",
            "422/422 - 18s - 42ms/step - accuracy: 0.9986 - loss: 0.0077 - val_accuracy: 0.9812 - val_loss: 0.1035\n",
            "Epoch 35/64\n",
            "422/422 - 20s - 47ms/step - accuracy: 0.9984 - loss: 0.0071 - val_accuracy: 0.9842 - val_loss: 0.1109\n",
            "Epoch 36/64\n",
            "422/422 - 20s - 49ms/step - accuracy: 0.9986 - loss: 0.0067 - val_accuracy: 0.9830 - val_loss: 0.1042\n",
            "Epoch 37/64\n",
            "422/422 - 17s - 40ms/step - accuracy: 0.9979 - loss: 0.0090 - val_accuracy: 0.9833 - val_loss: 0.0970\n",
            "Epoch 38/64\n",
            "422/422 - 18s - 43ms/step - accuracy: 0.9992 - loss: 0.0031 - val_accuracy: 0.9838 - val_loss: 0.1098\n",
            "Epoch 39/64\n",
            "422/422 - 20s - 46ms/step - accuracy: 0.9984 - loss: 0.0070 - val_accuracy: 0.9832 - val_loss: 0.1052\n",
            "Epoch 40/64\n",
            "422/422 - 18s - 43ms/step - accuracy: 0.9989 - loss: 0.0049 - val_accuracy: 0.9837 - val_loss: 0.1099\n",
            "Epoch 41/64\n",
            "422/422 - 19s - 46ms/step - accuracy: 0.9983 - loss: 0.0069 - val_accuracy: 0.9845 - val_loss: 0.0966\n",
            "Epoch 42/64\n",
            "422/422 - 18s - 43ms/step - accuracy: 0.9976 - loss: 0.0099 - val_accuracy: 0.9830 - val_loss: 0.1074\n",
            "Epoch 43/64\n",
            "422/422 - 20s - 46ms/step - accuracy: 0.9987 - loss: 0.0050 - val_accuracy: 0.9825 - val_loss: 0.1136\n",
            "Epoch 44/64\n",
            "422/422 - 22s - 52ms/step - accuracy: 0.9984 - loss: 0.0063 - val_accuracy: 0.9843 - val_loss: 0.1103\n",
            "Epoch 45/64\n",
            "422/422 - 19s - 46ms/step - accuracy: 0.9992 - loss: 0.0028 - val_accuracy: 0.9840 - val_loss: 0.1248\n",
            "Epoch 46/64\n",
            "422/422 - 21s - 49ms/step - accuracy: 0.9983 - loss: 0.0075 - val_accuracy: 0.9827 - val_loss: 0.1088\n",
            "Epoch 47/64\n",
            "422/422 - 17s - 41ms/step - accuracy: 0.9983 - loss: 0.0066 - val_accuracy: 0.9853 - val_loss: 0.1105\n",
            "Epoch 48/64\n",
            "422/422 - 19s - 44ms/step - accuracy: 0.9988 - loss: 0.0065 - val_accuracy: 0.9830 - val_loss: 0.1160\n",
            "Epoch 49/64\n",
            "422/422 - 17s - 40ms/step - accuracy: 0.9986 - loss: 0.0059 - val_accuracy: 0.9848 - val_loss: 0.1003\n",
            "Epoch 50/64\n",
            "422/422 - 22s - 52ms/step - accuracy: 0.9987 - loss: 0.0067 - val_accuracy: 0.9850 - val_loss: 0.0982\n",
            "Epoch 51/64\n",
            "422/422 - 19s - 46ms/step - accuracy: 0.9995 - loss: 0.0022 - val_accuracy: 0.9850 - val_loss: 0.1139\n",
            "Epoch 52/64\n",
            "422/422 - 19s - 44ms/step - accuracy: 0.9989 - loss: 0.0053 - val_accuracy: 0.9835 - val_loss: 0.1181\n",
            "Epoch 53/64\n",
            "422/422 - 17s - 41ms/step - accuracy: 0.9992 - loss: 0.0046 - val_accuracy: 0.9840 - val_loss: 0.1057\n",
            "Epoch 54/64\n",
            "422/422 - 17s - 41ms/step - accuracy: 0.9987 - loss: 0.0068 - val_accuracy: 0.9825 - val_loss: 0.1184\n",
            "Epoch 55/64\n",
            "422/422 - 18s - 43ms/step - accuracy: 0.9981 - loss: 0.0075 - val_accuracy: 0.9847 - val_loss: 0.0922\n",
            "Epoch 56/64\n",
            "422/422 - 20s - 46ms/step - accuracy: 0.9989 - loss: 0.0047 - val_accuracy: 0.9837 - val_loss: 0.0979\n",
            "Epoch 57/64\n",
            "422/422 - 21s - 50ms/step - accuracy: 0.9991 - loss: 0.0043 - val_accuracy: 0.9842 - val_loss: 0.1133\n",
            "Epoch 58/64\n",
            "422/422 - 20s - 47ms/step - accuracy: 0.9997 - loss: 0.0014 - val_accuracy: 0.9865 - val_loss: 0.1133\n",
            "Epoch 59/64\n",
            "422/422 - 18s - 43ms/step - accuracy: 0.9996 - loss: 0.0019 - val_accuracy: 0.9865 - val_loss: 0.1168\n",
            "Epoch 60/64\n",
            "422/422 - 20s - 47ms/step - accuracy: 0.9988 - loss: 0.0070 - val_accuracy: 0.9823 - val_loss: 0.1077\n",
            "Epoch 61/64\n",
            "422/422 - 18s - 43ms/step - accuracy: 0.9986 - loss: 0.0069 - val_accuracy: 0.9833 - val_loss: 0.1367\n",
            "Epoch 62/64\n",
            "422/422 - 19s - 46ms/step - accuracy: 0.9984 - loss: 0.0073 - val_accuracy: 0.9848 - val_loss: 0.0975\n",
            "Epoch 63/64\n",
            "422/422 - 18s - 43ms/step - accuracy: 0.9987 - loss: 0.0062 - val_accuracy: 0.9847 - val_loss: 0.1055\n",
            "Epoch 64/64\n",
            "422/422 - 17s - 40ms/step - accuracy: 0.9993 - loss: 0.0027 - val_accuracy: 0.9872 - val_loss: 0.1160\n"
          ]
        },
        {
          "output_type": "execute_result",
          "data": {
            "text/plain": [
              "<keras.src.callbacks.history.History at 0x7c302e180350>"
            ]
          },
          "metadata": {},
          "execution_count": 3
        }
      ]
    },
    {
      "cell_type": "code",
      "source": [
        "# Evaluate accuracy\n",
        "test_loss, test_acc = model.evaluate(x_test, y_test, verbose=0)\n",
        "print(f\"Test accuracy: {test_acc * 100:.2f}%\")\n"
      ],
      "metadata": {
        "colab": {
          "base_uri": "https://localhost:8080/"
        },
        "id": "oWhVIJP15u6G",
        "outputId": "2cd8e364-ac85-4c99-bb96-5db4c52b02e7"
      },
      "execution_count": 4,
      "outputs": [
        {
          "output_type": "stream",
          "name": "stdout",
          "text": [
            "Test accuracy: 98.60%\n"
          ]
        }
      ]
    }
  ]
}